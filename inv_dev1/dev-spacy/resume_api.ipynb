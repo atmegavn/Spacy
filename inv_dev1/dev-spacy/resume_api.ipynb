{
 "cells": [
  {
   "cell_type": "code",
   "execution_count": 1,
   "metadata": {},
   "outputs": [
    {
     "name": "stderr",
     "output_type": "stream",
     "text": [
      "c:\\Users\\thanh\\source\\repos\\Spacy\\inv_dev1\\dev-spacy\\Lib\\site-packages\\spacy\\util.py:275: UserWarning: [W031] Model 'en_training' (0.0.0) requires spaCy v2.2 and is incompatible with the current spaCy version (2.3.9). This may lead to unexpected results or runtime errors. To resolve this, download a newer compatible model or retrain your custom model with the current spaCy version. For more details and available updates, run: python -m spacy validate\n",
      "  warnings.warn(warn_msg)\n"
     ]
    },
    {
     "name": "stdout",
     "output_type": "stream",
     "text": [
      "======== Init OK ==============\n"
     ]
    }
   ],
   "source": [
    "import data_processing as dp\n",
    "import mysql.connector\n",
    "from resume_parser import resumeparse\n",
    "import os\n",
    "import json\n",
    "from flask import Flask, jsonify, request\n",
    "app = Flask(__name__)\n",
    "\n",
    "mydb = mysql.connector.connect(\n",
    "host=\"localhost\",\n",
    "user=\"root\",\n",
    "password=\"\",\n",
    "database=\"resume_details\"\n",
    ")\n",
    "print(\"======== Init OK ==============\")"
   ]
  },
  {
   "cell_type": "markdown",
   "metadata": {},
   "source": [
    "TEST RESUME"
   ]
  },
  {
   "cell_type": "code",
   "execution_count": null,
   "metadata": {},
   "outputs": [],
   "source": [
    "import glob\n",
    "resume_file_name = (glob.glob(\"Resume/*\"))\n",
    "\n",
    "for i in range(len(resume_file_name)):\n",
    "    resume_file_nam = str(resume_file_name[i])\n",
    "    print(resume_file_nam)\n",
    "    resume_data = resumeparse.read_file(resume_file_nam)\n",
    "    data_resume = dp.data_load(resume_file_nam)\n",
    "    keywords_resume = dp.nltk_keywords(data_resume)\n",
    "    write_string2 = 'Keywords found in resume: ' + (', '.join(keywords_resume))\n",
    "    print(write_string2)\n",
    "    mycursor = mydb.cursor()\n",
    "    vrnp = str(resume_data['designition']) + ' ' + str(resume_data['Companies worked at'])\n",
    "    sql = \"INSERT INTO Resume (resume_file_name , Keywords_resume ,Email_Address ,Phone_Number ,Name ,Address ,Professional_Summary ,Education ,Skills ,Certifications ,Projects_Portfolio , Volunteer_Experience ,Additional_Information ,social_media ) VALUES (%s, %s,%s,%s,%s,%s,%s,%s,%s,%s,%s,%s,%s,%s)\"\n",
    "    val = (str(resume_file_nam),str(keywords_resume),str(resume_data['email']),str(resume_data['phone']),str(resume_data['name']),'',vrnp,str(resume_data['degree']),str(resume_data['skills']),'','','','','')\n",
    "    mycursor.execute(sql, val)\n",
    "    mydb.commit()"
   ]
  },
  {
   "cell_type": "code",
   "execution_count": null,
   "metadata": {},
   "outputs": [],
   "source": [
    "import glob\n",
    "from find_job_titles import FinderAcora\n",
    "finder=FinderAcora()\n",
    "jd_file_name = (glob.glob(\"JD/*\"))\n",
    "\n",
    "for i in range(len(jd_file_name)):\n",
    "    jd_file_nam = str(jd_file_name[i])\n",
    "    print(jd_file_nam)\n",
    "    data_jd = dp.data_load(jd_file_nam)\n",
    "    keywords_jd = dp.spacy_keywords(data_jd)\n",
    "\n",
    "    #Write output in a result file\n",
    "    write_strings = 'Keywords found in JD: ' + (', '.join(keywords_jd))\n",
    "    print(write_strings)\n",
    "    #Write output in a result file\n",
    "    txt = []\n",
    "\n",
    "    file = open(jd_file_nam, \"r\")\n",
    "    while True:\n",
    "        content=file.readline()\n",
    "        if not content:\n",
    "            break\n",
    "        txt.append(content)\n",
    "    file.close()\n",
    "    #print(write_string2)\n",
    "    abc = finder.findall(txt[1])\n",
    "    job_name = abc[0][2]\n",
    "    mycursor = mydb.cursor()\n",
    "\n",
    "    sql = \"INSERT INTO JD (JD_File,Keywords_JD,JOB_NAME) VALUES (%s, %s,%s)\"\n",
    "    val = (str(jd_file_nam),str(keywords_jd),str(job_name))\n",
    "\n",
    "    mycursor.execute(sql, val)\n",
    "\n",
    "    mydb.commit()"
   ]
  }
 ],
 "metadata": {
  "kernelspec": {
   "display_name": ".venv",
   "language": "python",
   "name": "python3"
  },
  "language_info": {
   "codemirror_mode": {
    "name": "ipython",
    "version": 3
   },
   "file_extension": ".py",
   "mimetype": "text/x-python",
   "name": "python",
   "nbconvert_exporter": "python",
   "pygments_lexer": "ipython3",
   "version": "3.11.9"
  }
 },
 "nbformat": 4,
 "nbformat_minor": 2
}
